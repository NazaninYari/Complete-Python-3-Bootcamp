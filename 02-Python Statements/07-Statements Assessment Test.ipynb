{
  "nbformat": 4,
  "nbformat_minor": 0,
  "metadata": {
    "colab": {
      "name": "07-Statements Assessment Test.ipynb",
      "version": "0.3.2",
      "provenance": []
    },
    "language_info": {
      "codemirror_mode": {
        "name": "ipython",
        "version": 3
      },
      "file_extension": ".py",
      "mimetype": "text/x-python",
      "name": "python",
      "nbconvert_exporter": "python",
      "pygments_lexer": "ipython3",
      "version": "3.6.2"
    },
    "kernelspec": {
      "display_name": "Python 3",
      "language": "python",
      "name": "python3"
    }
  },
  "cells": [
    {
      "metadata": {
        "collapsed": true,
        "id": "W4XYigrqlQE7",
        "colab_type": "text"
      },
      "cell_type": "markdown",
      "source": [
        "# Statements Assessment Test\n",
        "Let's test your knowledge!"
      ]
    },
    {
      "metadata": {
        "id": "dcWmiTa9lQE-",
        "colab_type": "text"
      },
      "cell_type": "markdown",
      "source": [
        "_____\n",
        "**Use <code>for</code>, .split(), and <code>if</code> to create a Statement that will print out words that start with 's':**"
      ]
    },
    {
      "metadata": {
        "id": "e8QNyTLElQFB",
        "colab_type": "code",
        "colab": {}
      },
      "cell_type": "code",
      "source": [
        "st = 'Print only the words that start with s in this sentence'"
      ],
      "execution_count": 0,
      "outputs": []
    },
    {
      "metadata": {
        "id": "0-xWf1h4lQFK",
        "colab_type": "code",
        "colab": {
          "base_uri": "https://localhost:8080/",
          "height": 35
        },
        "outputId": "92d8d6a2-989f-40d8-aa65-da1a6c28efa4"
      },
      "cell_type": "code",
      "source": [
        "my_string = []\n",
        "split_str = st.split()\n",
        "\n",
        "for word in split_str:\n",
        "  if word[0].lower() == 's':\n",
        "    my_string.append(word)\n",
        "print(my_string)\n",
        "  "
      ],
      "execution_count": 11,
      "outputs": [
        {
          "output_type": "stream",
          "text": [
            "['start', 's', 'sentence']\n"
          ],
          "name": "stdout"
        }
      ]
    },
    {
      "metadata": {
        "id": "d23dVrdRlQFR",
        "colab_type": "text"
      },
      "cell_type": "markdown",
      "source": [
        "______\n",
        "**Use range() to print all the even numbers from 0 to 10.**"
      ]
    },
    {
      "metadata": {
        "id": "ubztIoyJlQFU",
        "colab_type": "code",
        "colab": {}
      },
      "cell_type": "code",
      "source": [
        "#Code Here"
      ],
      "execution_count": 0,
      "outputs": []
    },
    {
      "metadata": {
        "id": "Ue-QhfLMlQFd",
        "colab_type": "text"
      },
      "cell_type": "markdown",
      "source": [
        "___\n",
        "**Use a List Comprehension to create a list of all numbers between 1 and 50 that are divisible by 3.**"
      ]
    },
    {
      "metadata": {
        "id": "7JB6EnnvlQFf",
        "colab_type": "code",
        "colab": {}
      },
      "cell_type": "code",
      "source": [
        "#Code in this cell\n",
        "[]"
      ],
      "execution_count": 0,
      "outputs": []
    },
    {
      "metadata": {
        "id": "wtDgSGhslQFo",
        "colab_type": "text"
      },
      "cell_type": "markdown",
      "source": [
        "_____\n",
        "**Go through the string below and if the length of a word is even print \"even!\"**"
      ]
    },
    {
      "metadata": {
        "id": "Tg__sA6plQFr",
        "colab_type": "code",
        "colab": {}
      },
      "cell_type": "code",
      "source": [
        "st = 'Print every word in this sentence that has an even number of letters'"
      ],
      "execution_count": 0,
      "outputs": []
    },
    {
      "metadata": {
        "id": "8hci02kilQFz",
        "colab_type": "code",
        "colab": {}
      },
      "cell_type": "code",
      "source": [
        "#Code in this cell"
      ],
      "execution_count": 0,
      "outputs": []
    },
    {
      "metadata": {
        "id": "WOGywbrElQGN",
        "colab_type": "text"
      },
      "cell_type": "markdown",
      "source": [
        "____\n",
        "**Write a program that prints the integers from 1 to 100. But for multiples of three print \"Fizz\" instead of the number, and for the multiples of five print \"Buzz\". For numbers which are multiples of both three and five print \"FizzBuzz\".**"
      ]
    },
    {
      "metadata": {
        "id": "v38PGy-klQGP",
        "colab_type": "code",
        "colab": {}
      },
      "cell_type": "code",
      "source": [
        "#Code in this cell"
      ],
      "execution_count": 0,
      "outputs": []
    },
    {
      "metadata": {
        "id": "VIJAp5w7lQGZ",
        "colab_type": "text"
      },
      "cell_type": "markdown",
      "source": [
        "____\n",
        "**Use List Comprehension to create a list of the first letters of every word in the string below:**"
      ]
    },
    {
      "metadata": {
        "id": "72cE2l7mlQGb",
        "colab_type": "code",
        "colab": {}
      },
      "cell_type": "code",
      "source": [
        "st = 'Create a list of the first letters of every word in this string'"
      ],
      "execution_count": 0,
      "outputs": []
    },
    {
      "metadata": {
        "id": "BtwZl_UslQGl",
        "colab_type": "code",
        "colab": {}
      },
      "cell_type": "code",
      "source": [
        "#Code in this cell"
      ],
      "execution_count": 0,
      "outputs": []
    },
    {
      "metadata": {
        "id": "DQfx8pmFlQGt",
        "colab_type": "text"
      },
      "cell_type": "markdown",
      "source": [
        "### Great Job!"
      ]
    }
  ]
}